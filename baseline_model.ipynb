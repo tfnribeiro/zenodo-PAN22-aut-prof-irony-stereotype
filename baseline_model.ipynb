{
 "cells": [
  {
   "cell_type": "code",
   "execution_count": 7,
   "source": [
    "from sklearn.feature_extraction.text import CountVectorizer\r\n",
    "from sklearn import svm\r\n",
    "from read_files import X,y\r\n",
    "from read_files import USERCODE_X\r\n",
    "from utils import tokenize_tweet\r\n",
    "import numpy as np\r\n",
    "import regex as re\r\n",
    "from io import StringIO\r\n",
    "from sklearn.model_selection import train_test_split, KFold\r\n",
    "from tqdm import tqdm\r\n",
    "from nltk.tokenize import TweetTokenizer \r\n",
    "from sklearn.metrics import accuracy_score, f1_score"
   ],
   "outputs": [],
   "metadata": {}
  },
  {
   "cell_type": "code",
   "execution_count": 8,
   "source": [
    "X_train, X_test, y_train, y_test = train_test_split(X, y, test_size=0.3, random_state=0)"
   ],
   "outputs": [],
   "metadata": {}
  },
  {
   "cell_type": "code",
   "execution_count": 9,
   "source": [
    "#collecting all text for all authors \r\n",
    "\r\n",
    "def collect(array):\r\n",
    "\r\n",
    "    train_author = [None for i in range(array.shape[0])]\r\n",
    "\r\n",
    "    for i, author in enumerate(array):\r\n",
    "        buf = StringIO()\r\n",
    "        for tweet in author:\r\n",
    "            buf.write(tweet + \"\")\r\n",
    "        single_text = buf.getvalue()\r\n",
    "        train_author[i] = single_text\r\n",
    "\r\n",
    "    train_author = np.array(train_author)\r\n",
    "    return train_author \r\n"
   ],
   "outputs": [],
   "metadata": {}
  },
  {
   "cell_type": "code",
   "execution_count": 4,
   "source": [
    "#counting bigrams \r\n",
    "tknzr = TweetTokenizer()\r\n",
    "vectorizer = CountVectorizer(analyzer='word', tokenizer = tknzr.tokenize, ngram_range=(2, 2))\r\n",
    "X_train_f = vectorizer.fit_transform(collect(X_train))"
   ],
   "outputs": [],
   "metadata": {}
  },
  {
   "cell_type": "code",
   "execution_count": 5,
   "source": [
    "X_test_f = vectorizer.transform(collect(X_test))"
   ],
   "outputs": [],
   "metadata": {}
  },
  {
   "cell_type": "code",
   "execution_count": 8,
   "source": [
    "clf = svm.SVC()\r\n",
    "clf.fit(X_train_f, y_train)"
   ],
   "outputs": [
    {
     "output_type": "execute_result",
     "data": {
      "text/plain": [
       "SVC()"
      ]
     },
     "metadata": {},
     "execution_count": 8
    }
   ],
   "metadata": {}
  },
  {
   "cell_type": "code",
   "execution_count": 9,
   "source": [
    "#word accuracy\r\n",
    "accuracy_score(y_test, clf.predict(X_test_f))"
   ],
   "outputs": [
    {
     "output_type": "execute_result",
     "data": {
      "text/plain": [
       "0.7380952380952381"
      ]
     },
     "metadata": {},
     "execution_count": 9
    }
   ],
   "metadata": {}
  },
  {
   "cell_type": "code",
   "execution_count": 29,
   "source": [
    "kf = KFold(n_splits=7)\r\n",
    "result_dict = []\r\n",
    "for i, (train_index, test_index) in tqdm(enumerate(kf.split(X_train))):\r\n",
    "    vectorizer = CountVectorizer(analyzer='char', ngram_range=(5, 5)\r\n",
    "    cross_train = X_train[train_index]\r\n",
    "    cross_test = X_train[test_index]\r\n",
    "    label_train = y_train[train_index]\r\n",
    "    label_test = y_train[test_index]\r\n",
    "    X_train_f = vectorizer.fit_transform(collect(cross_train))\r\n",
    "    X_test_f = vectorizer.transform(collect(cross_test))\r\n",
    "    clf = svm.SVC()\r\n",
    "    clf.fit(X_train_f, label_train)\r\n",
    "    result_dict.append((accuracy_score(label_train, clf.predict(X_train_f)),accuracy_score(label_test, clf.predict(X_test_f)), f1_score(label_test, clf.predict(X_test_f), average='weighted')))"
   ],
   "outputs": [
    {
     "output_type": "stream",
     "name": "stderr",
     "text": [
      "7it [01:57, 16.76s/it]\n"
     ]
    }
   ],
   "metadata": {}
  },
  {
   "cell_type": "code",
   "execution_count": 25,
   "source": [
    "# 5-Char\r\n",
    "np.array(result_dict).mean(axis=0)"
   ],
   "outputs": [
    {
     "output_type": "execute_result",
     "data": {
      "text/plain": [
       "array([0.88888889, 0.82653061, 0.82698918])"
      ]
     },
     "metadata": {},
     "execution_count": 25
    }
   ],
   "metadata": {}
  },
  {
   "cell_type": "code",
   "execution_count": null,
   "source": [
    "kf = KFold(n_splits=7)\r\n",
    "result_dict = []\r\n",
    "for i, (train_index, test_index) in tqdm(enumerate(kf.split(X_train))):\r\n",
    "    vectorizer = CountVectorizer(analyzer='char', ngram_range=(4, 4)\r\n",
    "    cross_train = X_train[train_index]\r\n",
    "    cross_test = X_train[test_index]\r\n",
    "    label_train = y_train[train_index]\r\n",
    "    label_test = y_train[test_index]\r\n",
    "    X_train_f = vectorizer.fit_transform(collect(cross_train))\r\n",
    "    X_test_f = vectorizer.transform(collect(cross_test))\r\n",
    "    clf = svm.SVC()\r\n",
    "    clf.fit(X_train_f, label_train)\r\n",
    "    result_dict.append((accuracy_score(label_train, clf.predict(X_train_f)),accuracy_score(label_test, clf.predict(X_test_f)), f1_score(label_test, clf.predict(X_test_f), average='weighted')))"
   ],
   "outputs": [],
   "metadata": {}
  },
  {
   "cell_type": "code",
   "execution_count": 28,
   "source": [
    "# 4-Char\r\n",
    "np.array(result_dict).mean(axis=0)"
   ],
   "outputs": [
    {
     "output_type": "execute_result",
     "data": {
      "text/plain": [
       "array([0.87244898, 0.84353741, 0.84362666])"
      ]
     },
     "metadata": {},
     "execution_count": 28
    }
   ],
   "metadata": {}
  },
  {
   "cell_type": "code",
   "execution_count": null,
   "source": [
    "kf = KFold(n_splits=7)\r\n",
    "result_dict = []\r\n",
    "for i, (train_index, test_index) in tqdm(enumerate(kf.split(X_train))):\r\n",
    "    vectorizer = CountVectorizer(analyzer='char', ngram_range=(3, 3)\r\n",
    "    cross_train = X_train[train_index]\r\n",
    "    cross_test = X_train[test_index]\r\n",
    "    label_train = y_train[train_index]\r\n",
    "    label_test = y_train[test_index]\r\n",
    "    X_train_f = vectorizer.fit_transform(collect(cross_train))\r\n",
    "    X_test_f = vectorizer.transform(collect(cross_test))\r\n",
    "    clf = svm.SVC()\r\n",
    "    clf.fit(X_train_f, label_train)\r\n",
    "    result_dict.append((accuracy_score(label_train, clf.predict(X_train_f)),accuracy_score(label_test, clf.predict(X_test_f)), f1_score(label_test, clf.predict(X_test_f), average='weighted')))"
   ],
   "outputs": [],
   "metadata": {}
  },
  {
   "cell_type": "code",
   "execution_count": 30,
   "source": [
    "# 3-Char\r\n",
    "np.array(result_dict).mean(axis=0)"
   ],
   "outputs": [
    {
     "output_type": "execute_result",
     "data": {
      "text/plain": [
       "array([0.87244898, 0.83673469, 0.83600361])"
      ]
     },
     "metadata": {},
     "execution_count": 30
    }
   ],
   "metadata": {}
  },
  {
   "cell_type": "code",
   "execution_count": 33,
   "source": [
    "kf = KFold(n_splits=7)\r\n",
    "result_dict = []\r\n",
    "for i, (train_index, test_index) in tqdm(enumerate(kf.split(X_train))):\r\n",
    "    vectorizer = CountVectorizer(analyzer='char', ngram_range=(2, 2))\r\n",
    "    cross_train = X_train[train_index]\r\n",
    "    cross_test = X_train[test_index]\r\n",
    "    label_train = y_train[train_index]\r\n",
    "    label_test = y_train[test_index]\r\n",
    "    X_train_f = vectorizer.fit_transform(collect(cross_train))\r\n",
    "    X_test_f = vectorizer.transform(collect(cross_test))\r\n",
    "    clf = svm.SVC()\r\n",
    "    clf.fit(X_train_f, label_train)\r\n",
    "    result_dict.append((accuracy_score(label_train, clf.predict(X_train_f)),accuracy_score(label_test, clf.predict(X_test_f)), f1_score(label_test, clf.predict(X_test_f), average='weighted')))"
   ],
   "outputs": [
    {
     "output_type": "stream",
     "name": "stderr",
     "text": [
      "7it [01:47, 15.35s/it]\n"
     ]
    }
   ],
   "metadata": {}
  },
  {
   "cell_type": "code",
   "execution_count": 34,
   "source": [
    "# Bi-Char\r\n",
    "np.array(result_dict).mean(axis=0)"
   ],
   "outputs": [
    {
     "output_type": "execute_result",
     "data": {
      "text/plain": [
       "array([0.85090703, 0.82653061, 0.8239249 ])"
      ]
     },
     "metadata": {},
     "execution_count": 34
    }
   ],
   "metadata": {}
  },
  {
   "cell_type": "code",
   "execution_count": 35,
   "source": [
    "vectorizer = CountVectorizer(analyzer='char', ngram_range=(4, 4))\r\n",
    "X_train_f = vectorizer.fit_transform(collect(X_train))\r\n",
    "X_test_f = vectorizer.transform(collect(X_test))"
   ],
   "outputs": [],
   "metadata": {}
  },
  {
   "cell_type": "code",
   "execution_count": 36,
   "source": [
    "#char accuracy\r\n",
    "clf = svm.SVC()\r\n",
    "clf.fit(X_train_f, y_train)\r\n",
    "accuracy_score(y_test, clf.predict(X_test_f))"
   ],
   "outputs": [
    {
     "output_type": "execute_result",
     "data": {
      "text/plain": [
       "0.8492063492063492"
      ]
     },
     "metadata": {},
     "execution_count": 36
    }
   ],
   "metadata": {}
  },
  {
   "cell_type": "code",
   "execution_count": 37,
   "source": [
    "f1_score(y_test, clf.predict(X_test_f), average=\"weighted\")"
   ],
   "outputs": [
    {
     "output_type": "execute_result",
     "data": {
      "text/plain": [
       "0.8496359607470719"
      ]
     },
     "metadata": {},
     "execution_count": 37
    }
   ],
   "metadata": {}
  },
  {
   "cell_type": "code",
   "execution_count": null,
   "source": [
    "0.83333"
   ],
   "outputs": [],
   "metadata": {}
  },
  {
   "cell_type": "code",
   "execution_count": 17,
   "source": [
    "print(type(X_train_f))\r\n",
    "\r\n",
    "from sklearn.decomposition import PCA\r\n",
    "\r\n",
    "pca = PCA(n_components=10)\r\n",
    "pca.fit(X_train_f.toarray())"
   ],
   "outputs": [
    {
     "output_type": "stream",
     "name": "stdout",
     "text": [
      "<class 'scipy.sparse.csr.csr_matrix'>\n"
     ]
    },
    {
     "output_type": "execute_result",
     "data": {
      "text/plain": [
       "PCA(n_components=10)"
      ]
     },
     "metadata": {},
     "execution_count": 17
    }
   ],
   "metadata": {}
  },
  {
   "cell_type": "code",
   "execution_count": 18,
   "source": [
    "print(pca.explained_variance_ratio_)"
   ],
   "outputs": [
    {
     "output_type": "stream",
     "name": "stdout",
     "text": [
      "[0.45295345 0.20643717 0.13691326 0.03973111 0.01404132 0.01236087\n",
      " 0.01044976 0.00860926 0.00760826 0.00658638]\n"
     ]
    }
   ],
   "metadata": {}
  },
  {
   "cell_type": "code",
   "execution_count": 22,
   "source": [
    "clf = svm.SVC(probability=  True)\r\n",
    "clf.fit(pca.transform(X_train_f.toarray()), y_train)\r\n",
    "#accuracy_score(y_test, ))"
   ],
   "outputs": [
    {
     "output_type": "execute_result",
     "data": {
      "text/plain": [
       "SVC(probability=True)"
      ]
     },
     "metadata": {},
     "execution_count": 22
    }
   ],
   "metadata": {}
  },
  {
   "cell_type": "code",
   "execution_count": 23,
   "source": [
    "clf.predict_proba(pca.transform(X_test_f.toarray()))"
   ],
   "outputs": [
    {
     "output_type": "execute_result",
     "data": {
      "text/plain": [
       "array([[0.37484311, 0.62515689],\n",
       "       [0.52446532, 0.47553468],\n",
       "       [0.99428864, 0.00571136],\n",
       "       [0.18044511, 0.81955489],\n",
       "       [0.0819303 , 0.9180697 ],\n",
       "       [0.78794548, 0.21205452],\n",
       "       [0.24590154, 0.75409846],\n",
       "       [0.87969818, 0.12030182],\n",
       "       [0.97850421, 0.02149579],\n",
       "       [0.98968573, 0.01031427],\n",
       "       [0.2256982 , 0.7743018 ],\n",
       "       [0.79020658, 0.20979342],\n",
       "       [0.79499108, 0.20500892],\n",
       "       [0.98983224, 0.01016776],\n",
       "       [0.97839503, 0.02160497],\n",
       "       [0.55845308, 0.44154692],\n",
       "       [0.93513248, 0.06486752],\n",
       "       [0.04535589, 0.95464411],\n",
       "       [0.16374774, 0.83625226],\n",
       "       [0.15087133, 0.84912867],\n",
       "       [0.68349526, 0.31650474],\n",
       "       [0.98515475, 0.01484525],\n",
       "       [0.25709595, 0.74290405],\n",
       "       [0.82896203, 0.17103797],\n",
       "       [0.81576148, 0.18423852],\n",
       "       [0.66740548, 0.33259452],\n",
       "       [0.88586802, 0.11413198],\n",
       "       [0.0485514 , 0.9514486 ],\n",
       "       [0.24939075, 0.75060925],\n",
       "       [0.20023012, 0.79976988],\n",
       "       [0.08624384, 0.91375616],\n",
       "       [0.6118396 , 0.3881604 ],\n",
       "       [0.88548052, 0.11451948],\n",
       "       [0.08026346, 0.91973654],\n",
       "       [0.25630984, 0.74369016],\n",
       "       [0.08735327, 0.91264673],\n",
       "       [0.15078318, 0.84921682],\n",
       "       [0.9970318 , 0.0029682 ],\n",
       "       [0.07176638, 0.92823362],\n",
       "       [0.98615354, 0.01384646],\n",
       "       [0.63061793, 0.36938207],\n",
       "       [0.0591394 , 0.9408606 ],\n",
       "       [0.14997897, 0.85002103],\n",
       "       [0.62040641, 0.37959359],\n",
       "       [0.05957675, 0.94042325],\n",
       "       [0.75779122, 0.24220878],\n",
       "       [0.17947173, 0.82052827],\n",
       "       [0.06345846, 0.93654154],\n",
       "       [0.07748117, 0.92251883],\n",
       "       [0.09918735, 0.90081265],\n",
       "       [0.98825028, 0.01174972],\n",
       "       [0.91714294, 0.08285706],\n",
       "       [0.74329741, 0.25670259],\n",
       "       [0.79824768, 0.20175232],\n",
       "       [0.42184789, 0.57815211],\n",
       "       [0.95242125, 0.04757875],\n",
       "       [0.99340628, 0.00659372],\n",
       "       [0.7939005 , 0.2060995 ],\n",
       "       [0.09547355, 0.90452645],\n",
       "       [0.21054337, 0.78945663],\n",
       "       [0.97816766, 0.02183234],\n",
       "       [0.97857823, 0.02142177],\n",
       "       [0.92897158, 0.07102842],\n",
       "       [0.97323856, 0.02676144],\n",
       "       [0.52087135, 0.47912865],\n",
       "       [0.99108405, 0.00891595],\n",
       "       [0.0934957 , 0.9065043 ],\n",
       "       [0.98436082, 0.01563918],\n",
       "       [0.10443426, 0.89556574],\n",
       "       [0.97168246, 0.02831754],\n",
       "       [0.35398857, 0.64601143],\n",
       "       [0.41105703, 0.58894297],\n",
       "       [0.97328832, 0.02671168],\n",
       "       [0.96472168, 0.03527832],\n",
       "       [0.5794301 , 0.4205699 ],\n",
       "       [0.11966381, 0.88033619],\n",
       "       [0.40745747, 0.59254253],\n",
       "       [0.85105064, 0.14894936],\n",
       "       [0.75329683, 0.24670317],\n",
       "       [0.9302555 , 0.0697445 ],\n",
       "       [0.07443853, 0.92556147],\n",
       "       [0.28757509, 0.71242491],\n",
       "       [0.08277118, 0.91722882],\n",
       "       [0.76715524, 0.23284476],\n",
       "       [0.06010813, 0.93989187],\n",
       "       [0.09171146, 0.90828854],\n",
       "       [0.09037774, 0.90962226],\n",
       "       [0.58552772, 0.41447228],\n",
       "       [0.09141657, 0.90858343],\n",
       "       [0.28732633, 0.71267367],\n",
       "       [0.48801848, 0.51198152],\n",
       "       [0.05590284, 0.94409716],\n",
       "       [0.66734233, 0.33265767],\n",
       "       [0.06878054, 0.93121946],\n",
       "       [0.97227846, 0.02772154],\n",
       "       [0.95438706, 0.04561294],\n",
       "       [0.9932207 , 0.0067793 ],\n",
       "       [0.98919428, 0.01080572],\n",
       "       [0.33834665, 0.66165335],\n",
       "       [0.09816852, 0.90183148],\n",
       "       [0.07455146, 0.92544854],\n",
       "       [0.03540326, 0.96459674],\n",
       "       [0.33294809, 0.66705191],\n",
       "       [0.06015846, 0.93984154],\n",
       "       [0.55017013, 0.44982987]])"
      ]
     },
     "metadata": {},
     "execution_count": 23
    }
   ],
   "metadata": {}
  },
  {
   "cell_type": "markdown",
   "source": [
    "### Comparing models"
   ],
   "metadata": {}
  },
  {
   "cell_type": "code",
   "execution_count": 24,
   "source": [
    "X_train, X_test, y_train, y_test = train_test_split(X,y, random_state= 0)"
   ],
   "outputs": [],
   "metadata": {}
  },
  {
   "cell_type": "code",
   "execution_count": 25,
   "source": [
    "## BASELINE BIGRAM MODEL \r\n",
    "\r\n",
    "vectorizer = CountVectorizer(analyzer='char', ngram_range=(2, 2))\r\n",
    "X_train_f = vectorizer.fit_transform(collect(X_train))\r\n",
    "X_test_f = vectorizer.transform(collect(X_test))"
   ],
   "outputs": [],
   "metadata": {}
  },
  {
   "cell_type": "code",
   "execution_count": 43,
   "source": [
    "clf = svm.SVC(probability = True)\r\n",
    "clf.fit(X_train_f, y_train)\r\n",
    "baseline_pred_proba = clf.predict_proba(X_test_f)\r\n",
    "baseline_pred_proba = clf.predict_proba\r\n"
   ],
   "outputs": [],
   "metadata": {}
  },
  {
   "cell_type": "code",
   "execution_count": 49,
   "source": [
    "clf = svm.SVC(probability = False)\r\n",
    "clf.fit(X_train_f, y_train)\r\n",
    "baseline_pred = clf.predict(X_test_f)\r\n",
    "\r\n"
   ],
   "outputs": [],
   "metadata": {}
  },
  {
   "cell_type": "code",
   "execution_count": 32,
   "source": [
    "## OUR MODEL\r\n",
    "\r\n",
    "from classifier_methods import *\r\n",
    "\r\n",
    "X_train_F, emoji_pca, profanity_pca, word_pca, emoji_tfidf, profanity_tfidf, words_tfidf = get_features_train(X_train)\r\n",
    "X_test_F = get_features_test(X_test, emoji_pca, profanity_pca, word_pca, emoji_tfidf, profanity_tfidf, words_tfidf)\r\n",
    "\r\n",
    "\r\n",
    "\r\n"
   ],
   "outputs": [
    {
     "output_type": "stream",
     "name": "stdout",
     "text": [
      "Generating Train Features\n",
      "Processing features: pos_counts\n"
     ]
    },
    {
     "output_type": "stream",
     "name": "stderr",
     "text": [
      "100%|██████████| 315/315 [00:57<00:00,  5.48it/s]\n"
     ]
    },
    {
     "output_type": "stream",
     "name": "stdout",
     "text": [
      "Individual Predict Processing for features: pos_counts, is complete!\n",
      "Processing features: author_style_counts\n"
     ]
    },
    {
     "output_type": "stream",
     "name": "stderr",
     "text": [
      "100%|██████████| 315/315 [00:14<00:00, 21.32it/s]\n"
     ]
    },
    {
     "output_type": "stream",
     "name": "stdout",
     "text": [
      "Individual Predict Processing for features: author_style_counts, is complete!\n",
      "Processing features: lix_score\n"
     ]
    },
    {
     "output_type": "stream",
     "name": "stderr",
     "text": [
      " 64%|██████▍   | 203/315 [00:04<00:02, 49.63it/s]"
     ]
    },
    {
     "output_type": "stream",
     "name": "stdout",
     "text": [
      "[]\n",
      "0\n"
     ]
    },
    {
     "output_type": "stream",
     "name": "stderr",
     "text": [
      "100%|██████████| 315/315 [00:06<00:00, 48.56it/s]\n"
     ]
    },
    {
     "output_type": "stream",
     "name": "stdout",
     "text": [
      "Individual Predict Processing for features: lix_score, is complete!\n",
      "Processing features: get_sent_polarity\n"
     ]
    },
    {
     "output_type": "stream",
     "name": "stderr",
     "text": [
      "100%|██████████| 315/315 [00:16<00:00, 18.91it/s]\n"
     ]
    },
    {
     "output_type": "stream",
     "name": "stdout",
     "text": [
      "Individual Predict Processing for features: get_sent_polarity, is complete!\n",
      "Processing features: seperated_punctuation\n"
     ]
    },
    {
     "output_type": "stream",
     "name": "stderr",
     "text": [
      "100%|██████████| 315/315 [00:00<00:00, 417.22it/s]\n"
     ]
    },
    {
     "output_type": "stream",
     "name": "stdout",
     "text": [
      "Individual Predict Processing for features: seperated_punctuation, is complete!\n",
      "Processing features: tf_idf\n"
     ]
    },
    {
     "output_type": "stream",
     "name": "stderr",
     "text": [
      "100%|██████████| 315/315 [00:06<00:00, 49.00it/s]\n"
     ]
    },
    {
     "output_type": "stream",
     "name": "stdout",
     "text": [
      "Emoji TF_IDF Processing for features: tf_idf, is complete!\n",
      "Processing features: tf_idf\n"
     ]
    },
    {
     "output_type": "stream",
     "name": "stderr",
     "text": [
      "100%|██████████| 315/315 [00:06<00:00, 45.20it/s]\n"
     ]
    },
    {
     "output_type": "stream",
     "name": "stdout",
     "text": [
      "Profanity TF_IDF Processing for features: tf_idf, is complete!\n",
      "Processing features: tf_idf\n"
     ]
    },
    {
     "output_type": "stream",
     "name": "stderr",
     "text": [
      "100%|██████████| 315/315 [00:17<00:00, 17.70it/s]\n"
     ]
    },
    {
     "output_type": "stream",
     "name": "stdout",
     "text": [
      "Words TF_IDF Processing for features: tf_idf, is complete!\n",
      "Generating Test Features\n",
      "Processing features: pos_counts\n"
     ]
    },
    {
     "output_type": "stream",
     "name": "stderr",
     "text": [
      "100%|██████████| 105/105 [00:19<00:00,  5.28it/s]\n"
     ]
    },
    {
     "output_type": "stream",
     "name": "stdout",
     "text": [
      "Individual Predict Processing for features: pos_counts, is complete!\n",
      "Processing features: author_style_counts\n"
     ]
    },
    {
     "output_type": "stream",
     "name": "stderr",
     "text": [
      "100%|██████████| 105/105 [00:05<00:00, 20.32it/s]\n"
     ]
    },
    {
     "output_type": "stream",
     "name": "stdout",
     "text": [
      "Individual Predict Processing for features: author_style_counts, is complete!\n",
      "Processing features: lix_score\n"
     ]
    },
    {
     "output_type": "stream",
     "name": "stderr",
     "text": [
      "100%|██████████| 105/105 [00:02<00:00, 47.31it/s]\n"
     ]
    },
    {
     "output_type": "stream",
     "name": "stdout",
     "text": [
      "Individual Predict Processing for features: lix_score, is complete!\n",
      "Processing features: get_sent_polarity\n"
     ]
    },
    {
     "output_type": "stream",
     "name": "stderr",
     "text": [
      "100%|██████████| 105/105 [00:05<00:00, 18.65it/s]\n"
     ]
    },
    {
     "output_type": "stream",
     "name": "stdout",
     "text": [
      "Individual Predict Processing for features: get_sent_polarity, is complete!\n",
      "Processing features: seperated_punctuation\n"
     ]
    },
    {
     "output_type": "stream",
     "name": "stderr",
     "text": [
      "100%|██████████| 105/105 [00:00<00:00, 447.76it/s]\n"
     ]
    },
    {
     "output_type": "stream",
     "name": "stdout",
     "text": [
      "Individual Predict Processing for features: seperated_punctuation, is complete!\n",
      "Processing features: tf_idf\n"
     ]
    },
    {
     "output_type": "stream",
     "name": "stderr",
     "text": [
      "100%|██████████| 105/105 [00:02<00:00, 47.90it/s]\n"
     ]
    },
    {
     "output_type": "stream",
     "name": "stdout",
     "text": [
      "Individual Predict Processing for features: tf_idf, is complete!\n",
      "Processing features: tf_idf\n"
     ]
    },
    {
     "output_type": "stream",
     "name": "stderr",
     "text": [
      "100%|██████████| 105/105 [00:02<00:00, 44.33it/s]\n"
     ]
    },
    {
     "output_type": "stream",
     "name": "stdout",
     "text": [
      "Individual Predict Processing for features: tf_idf, is complete!\n",
      "Processing features: tf_idf\n"
     ]
    },
    {
     "output_type": "stream",
     "name": "stderr",
     "text": [
      "100%|██████████| 105/105 [00:05<00:00, 17.80it/s]"
     ]
    },
    {
     "output_type": "stream",
     "name": "stdout",
     "text": [
      "Words TF_IDF Processing for features: tf_idf, is complete!\n"
     ]
    },
    {
     "output_type": "stream",
     "name": "stderr",
     "text": [
      "\n"
     ]
    }
   ],
   "metadata": {}
  },
  {
   "cell_type": "code",
   "execution_count": 36,
   "source": [
    "classifier = RandomForestClassifier()\r\n",
    "classifier.fit(X_train_F, y_train)"
   ],
   "outputs": [
    {
     "output_type": "execute_result",
     "data": {
      "text/plain": [
       "RandomForestClassifier()"
      ]
     },
     "metadata": {},
     "execution_count": 36
    }
   ],
   "metadata": {}
  },
  {
   "cell_type": "code",
   "execution_count": 42,
   "source": [
    "model_pred_proba = classifier.predict_proba(X_test_F)\r\n",
    "model_pred = classifier.predict(X_test_F)"
   ],
   "outputs": [],
   "metadata": {}
  },
  {
   "cell_type": "code",
   "execution_count": 59,
   "source": [
    "file = open('proba_results.txt', 'w', encoding = 'utf-8')\r\n",
    "\r\n",
    "for i in range(len(y_test)):\r\n",
    "    file.write(f\"{baseline_pred_proba[i][0]}, {baseline_pred_proba[i][1]},  {model_pred_proba[i][0]}, {model_pred_proba[i][1]}\\n\")\r\n"
   ],
   "outputs": [],
   "metadata": {}
  },
  {
   "cell_type": "markdown",
   "source": [
    "### ML Perceptron "
   ],
   "metadata": {}
  },
  {
   "cell_type": "code",
   "execution_count": 67,
   "source": [
    "from sklearn.neural_network import MLPClassifier\r\n",
    "from sklearn.datasets import make_classification\r\n",
    "\r\n",
    "y = y_test\r\n",
    "X = np.loadtxt('proba_results.txt', delimiter = ',')"
   ],
   "outputs": [],
   "metadata": {}
  },
  {
   "cell_type": "code",
   "execution_count": 69,
   "source": [
    "X_train, X_test, y_train, y_test = train_test_split(X, y, stratify=y,random_state=1)"
   ],
   "outputs": [],
   "metadata": {}
  },
  {
   "cell_type": "code",
   "execution_count": 72,
   "source": [
    "clf = MLPClassifier(random_state=1, max_iter=1000).fit(X_train, y_train)"
   ],
   "outputs": [],
   "metadata": {}
  },
  {
   "cell_type": "code",
   "execution_count": 73,
   "source": [
    "clf.score(X_test, y_test)"
   ],
   "outputs": [
    {
     "output_type": "execute_result",
     "data": {
      "text/plain": [
       "0.8888888888888888"
      ]
     },
     "metadata": {},
     "execution_count": 73
    }
   ],
   "metadata": {}
  },
  {
   "cell_type": "code",
   "execution_count": 1,
   "source": [
    "from baseline import baseline_svm\r\n",
    "from read_files import X,y\r\n",
    "\r\n",
    "baseline_svm(X,y)"
   ],
   "outputs": [
    {
     "output_type": "stream",
     "name": "stdout",
     "text": [
      "Load XML files complete, number of tweet profiles:  420\n",
      "Tokenizing and vectorizing input...\n",
      "Initializing K-fold splits...\n",
      "Split 0 Accuracy: 0.8333333333333334\n",
      "Split 0 Accuracy: 0.8809523809523809\n",
      "Split 0 Accuracy: 0.8690476190476191\n",
      "Split 0 Accuracy: 0.7976190476190477\n",
      "Split 0 Accuracy: 0.8333333333333334\n"
     ]
    },
    {
     "output_type": "error",
     "ename": "UFuncTypeError",
     "evalue": "ufunc 'add' did not contain a loop with signature matching types (dtype('<U3'), dtype('<U3')) -> dtype('<U3')",
     "traceback": [
      "\u001b[0;31m---------------------------------------------------------------------------\u001b[0m",
      "\u001b[0;31mUFuncTypeError\u001b[0m                            Traceback (most recent call last)",
      "\u001b[1;32m/Users/yananikolova/Documents/GitHub/zenodo-PAN22-aut-prof-irony-stereotype/baseline_model.ipynb Cell 28'\u001b[0m in \u001b[0;36m<cell line: 4>\u001b[0;34m()\u001b[0m\n\u001b[1;32m      <a href='vscode-notebook-cell:/Users/yananikolova/Documents/GitHub/zenodo-PAN22-aut-prof-irony-stereotype/baseline_model.ipynb#ch0000033?line=0'>1</a>\u001b[0m \u001b[39mfrom\u001b[39;00m \u001b[39mbaseline\u001b[39;00m \u001b[39mimport\u001b[39;00m baseline_svm\n\u001b[1;32m      <a href='vscode-notebook-cell:/Users/yananikolova/Documents/GitHub/zenodo-PAN22-aut-prof-irony-stereotype/baseline_model.ipynb#ch0000033?line=1'>2</a>\u001b[0m \u001b[39mfrom\u001b[39;00m \u001b[39mread_files\u001b[39;00m \u001b[39mimport\u001b[39;00m X,y\n\u001b[0;32m----> <a href='vscode-notebook-cell:/Users/yananikolova/Documents/GitHub/zenodo-PAN22-aut-prof-irony-stereotype/baseline_model.ipynb#ch0000033?line=3'>4</a>\u001b[0m baseline_svm(X,y)\n",
      "File \u001b[0;32m~/Documents/GitHub/zenodo-PAN22-aut-prof-irony-stereotype/baseline.py:58\u001b[0m, in \u001b[0;36mbaseline_svm\u001b[0;34m(data, labels, tokenize, kfold)\u001b[0m\n\u001b[1;32m     <a href='file:///Users/yananikolova/Documents/GitHub/zenodo-PAN22-aut-prof-irony-stereotype/baseline.py?line=54'>55</a>\u001b[0m     \u001b[39mprint\u001b[39m(\u001b[39mf\u001b[39m\u001b[39m\"\u001b[39m\u001b[39mSplit \u001b[39m\u001b[39m{\u001b[39;00mi\u001b[39m}\u001b[39;00m\u001b[39m Accuracy: \u001b[39m\u001b[39m{\u001b[39;00maccuracy_score(y_test, prediction)\u001b[39m}\u001b[39;00m\u001b[39m\"\u001b[39m)\n\u001b[1;32m     <a href='file:///Users/yananikolova/Documents/GitHub/zenodo-PAN22-aut-prof-irony-stereotype/baseline.py?line=55'>56</a>\u001b[0m     accuracies\u001b[39m.\u001b[39mappend(prediction)\n\u001b[0;32m---> <a href='file:///Users/yananikolova/Documents/GitHub/zenodo-PAN22-aut-prof-irony-stereotype/baseline.py?line=57'>58</a>\u001b[0m \u001b[39mprint\u001b[39m(\u001b[39m\"\u001b[39m\u001b[39mAverage accuracy:\u001b[39m\u001b[39m\"\u001b[39m, \u001b[39msum\u001b[39;49m(accuracies)\u001b[39m/\u001b[39mkfold)\n",
      "\u001b[0;31mUFuncTypeError\u001b[0m: ufunc 'add' did not contain a loop with signature matching types (dtype('<U3'), dtype('<U3')) -> dtype('<U3')"
     ]
    }
   ],
   "metadata": {}
  },
  {
   "cell_type": "code",
   "execution_count": 6,
   "source": [
    "from sklearn.feature_extraction.text import CountVectorizer\r\n",
    "from sklearn import svm\r\n",
    "from read_files import X,y\r\n",
    "from read_files import USERCODE_X\r\n",
    "from utils import tokenize_tweet\r\n",
    "import numpy as np\r\n",
    "import regex as re\r\n",
    "from io import StringIO\r\n",
    "from sklearn.model_selection import train_test_split\r\n",
    "from nltk.tokenize import TweetTokenizer \r\n",
    "from sklearn.metrics import accuracy_score\r\n",
    "from sklearn.model_selection import KFold\r\n",
    "\r\n",
    "\r\n",
    "def collect(array):\r\n",
    "\r\n",
    "    train_author = [None for i in range(array.shape[0])]\r\n",
    "\r\n",
    "    for i, author in enumerate(array):\r\n",
    "        buf = StringIO()\r\n",
    "        for tweet in author:\r\n",
    "            buf.write(tweet + \"\")\r\n",
    "        single_text = buf.getvalue()\r\n",
    "        train_author[i] = single_text\r\n",
    "\r\n",
    "    train_author = np.array(train_author)\r\n",
    "    return train_author \r\n",
    "\r\n",
    "def baseline_svm(data, labels, tokenize = 'char', kfold = 5):\r\n",
    "\r\n",
    "    print(\"Tokenizing and vectorizing input...\")\r\n",
    "\r\n",
    "    if tokenize == 'word':\r\n",
    "        tknzr = TweetTokenizer()\r\n",
    "        vectorizer = CountVectorizer(analyzer='word', tokenizer = tknzr.tokenize, ngram_range=(2, 2))\r\n",
    "        X = vectorizer.fit_transform(collect(data))\r\n",
    "    else:\r\n",
    "        vectorizer = CountVectorizer(analyzer='char', ngram_range=(2, 2))\r\n",
    "        X = vectorizer.fit_transform(collect(data))\r\n",
    "\r\n",
    "    accuracies = []\r\n",
    "\r\n",
    "    print(\"Initializing K-fold splits...\")\r\n",
    "\r\n",
    "    i= 0\r\n",
    "    kf = KFold(n_splits=5)\r\n",
    "    for train_index, test_index in kf.split(X):\r\n",
    "        X_train, X_test = X[train_index], X[test_index]\r\n",
    "        y_train, y_test = y[train_index], y[test_index]\r\n",
    "\r\n",
    "        clf = svm.SVC()\r\n",
    "        clf.fit(X_train, y_train)\r\n",
    "        prediction = clf.predict(X_test)\r\n",
    "        print(f\"Split {i} Accuracy: {accuracy_score(y_test, prediction)}\")\r\n",
    "        accuracies.append(accuracy_score(y_test, prediction))\r\n",
    "        i+= 1\r\n",
    "\r\n",
    "    print(\"Average accuracy:\", sum(accuracies)/kfold)\r\n",
    "\r\n",
    "\r\n",
    "\r\n",
    "\r\n",
    "\r\n",
    "\r\n"
   ],
   "outputs": [],
   "metadata": {}
  },
  {
   "cell_type": "code",
   "execution_count": 7,
   "source": [
    "baseline_svm(X,y)"
   ],
   "outputs": [
    {
     "output_type": "stream",
     "name": "stdout",
     "text": [
      "Tokenizing and vectorizing input...\n",
      "Initializing K-fold splits...\n",
      "Split 0 Accuracy: 0.8333333333333334\n",
      "Split 1 Accuracy: 0.8809523809523809\n",
      "Split 2 Accuracy: 0.8690476190476191\n",
      "Split 3 Accuracy: 0.7976190476190477\n",
      "Split 4 Accuracy: 0.8333333333333334\n",
      "<class 'list'> <class 'numpy.float64'>\n",
      "Average accuracy: 0.8428571428571429\n"
     ]
    }
   ],
   "metadata": {}
  },
  {
   "cell_type": "code",
   "execution_count": null,
   "source": [],
   "outputs": [],
   "metadata": {}
  }
 ],
 "metadata": {
  "interpreter": {
   "hash": "97ae724bfa85b9b34df7982b8bb8c7216f435b92902d749e4263f71162bea840"
  },
  "kernelspec": {
   "name": "python3",
   "display_name": "Python 3.8.5 64-bit ('base': conda)"
  },
  "language_info": {
   "codemirror_mode": {
    "name": "ipython",
    "version": 3
   },
   "file_extension": ".py",
   "mimetype": "text/x-python",
   "name": "python",
   "nbconvert_exporter": "python",
   "pygments_lexer": "ipython3",
   "version": "3.8.5"
  }
 },
 "nbformat": 4,
 "nbformat_minor": 2
}